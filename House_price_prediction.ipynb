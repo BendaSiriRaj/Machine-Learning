{
  "nbformat": 4,
  "nbformat_minor": 0,
  "metadata": {
    "colab": {
      "provenance": [],
      "include_colab_link": true
    },
    "kernelspec": {
      "name": "python3",
      "display_name": "Python 3"
    },
    "language_info": {
      "name": "python"
    }
  },
  "cells": [
    {
      "cell_type": "markdown",
      "metadata": {
        "id": "view-in-github",
        "colab_type": "text"
      },
      "source": [
        "<a href=\"https://colab.research.google.com/github/BendaSiriRaj/Machine-Learning/blob/main/House_price_prediction.ipynb\" target=\"_parent\"><img src=\"https://colab.research.google.com/assets/colab-badge.svg\" alt=\"Open In Colab\"/></a>"
      ]
    },
    {
      "cell_type": "markdown",
      "source": [
        "link for data set:https://github.com/BendaSiriRaj/Machine-Learning/blob/main/kc_house_data.csv"
      ],
      "metadata": {
        "id": "IVGBbTR9xw0s"
      }
    },
    {
      "cell_type": "code",
      "execution_count": 1,
      "metadata": {
        "colab": {
          "base_uri": "https://localhost:8080/"
        },
        "id": "biVNYdYa6_KH",
        "outputId": "af1c3f1a-d6dc-41ac-d165-b3dd76e4fed6"
      },
      "outputs": [
        {
          "output_type": "stream",
          "name": "stdout",
          "text": [
            "Model R^2 Score: 0.5152514170018478\n",
            "Predicted Price: 121009.31446379423\n"
          ]
        }
      ],
      "source": [
        "from sklearn.model_selection import train_test_split\n",
        "from sklearn.linear_model import LinearRegression\n",
        "import pandas as pd\n",
        "\n",
        "# Loading the dataset\n",
        "data_h = pd.read_csv('kc_house_data.csv')\n",
        "\n",
        "# Selecting the features and target variable\n",
        "features = ['bedrooms', 'bathrooms', 'sqft_living', 'sqft_lot', 'floors', 'zipcode']\n",
        "target = 'price'\n",
        "X = data_h[features]\n",
        "y = data_h[target]\n",
        "\n",
        "# We will perform the data splitting into training and testing sets\n",
        "X_train, X_test, y_train, y_test = train_test_split(X, y, test_size=0.2, random_state=42)\n",
        "\n",
        "# instance of the Linear Regression model creation\n",
        "model = LinearRegression()\n",
        "\n",
        "# Training the model\n",
        "model.fit(X_train, y_train)\n",
        "\n",
        "# Making predictions on the test set\n",
        "y_pred = model.predict(X_test)\n",
        "\n",
        "# Evaluating the model\n",
        "score = model.score(X_test, y_test)\n",
        "print(\"Model R^2 Score:\", score)\n",
        "\n",
        "# Predicting the price of a new house\n",
        "new_house = pd.DataFrame({'bedrooms': [2], 'bathrooms': [2.5], 'sqft_living': [600], 'sqft_lot': [600], 'floors': [2], 'zipcode': [98008]})\n",
        "predicted_price = model.predict(new_house)\n",
        "print(\"Predicted Price:\", predicted_price[0])"
      ]
    }
  ]
}