{
  "nbformat": 4,
  "nbformat_minor": 0,
  "metadata": {
    "colab": {
      "provenance": [],
      "include_colab_link": true
    },
    "kernelspec": {
      "name": "ir",
      "display_name": "R"
    },
    "language_info": {
      "name": "R"
    }
  },
  "cells": [
    {
      "cell_type": "markdown",
      "metadata": {
        "id": "view-in-github",
        "colab_type": "text"
      },
      "source": [
        "<a href=\"https://colab.research.google.com/github/BendaSiriRaj/Machine-Learning/blob/main/Prediction_of_Student_scores_from_study_hours.ipynb\" target=\"_parent\"><img src=\"https://colab.research.google.com/assets/colab-badge.svg\" alt=\"Open In Colab\"/></a>"
      ]
    },
    {
      "cell_type": "markdown",
      "source": [
        "link for csv file: https://github.com/BendaSiriRaj/Machine-Learning/blob/main/students.csv"
      ],
      "metadata": {
        "id": "KPFfqNw1o__9"
      }
    },
    {
      "cell_type": "code",
      "execution_count": 3,
      "metadata": {
        "id": "7Q9zSmhnnStG"
      },
      "outputs": [],
      "source": [
        "student=read.csv(\"/students.csv\")"
      ]
    },
    {
      "cell_type": "markdown",
      "source": [
        "Data pre-processing"
      ],
      "metadata": {
        "id": "pqI863HvpqYf"
      }
    },
    {
      "cell_type": "code",
      "source": [
        "print(summary(student))"
      ],
      "metadata": {
        "colab": {
          "base_uri": "https://localhost:8080/"
        },
        "id": "BlVQ9IgTpSaX",
        "outputId": "badd0c49-dfd9-4749-85e5-3615b4544f8e"
      },
      "execution_count": 4,
      "outputs": [
        {
          "output_type": "stream",
          "name": "stdout",
          "text": [
            "     Hours           Scores     \n",
            " Min.   :1.100   Min.   :17.00  \n",
            " 1st Qu.:2.700   1st Qu.:30.00  \n",
            " Median :4.800   Median :47.00  \n",
            " Mean   :5.012   Mean   :51.48  \n",
            " 3rd Qu.:7.400   3rd Qu.:75.00  \n",
            " Max.   :9.200   Max.   :95.00  \n"
          ]
        }
      ]
    },
    {
      "cell_type": "code",
      "source": [
        "print(head(student))"
      ],
      "metadata": {
        "id": "wb8uYegMpWk_",
        "colab": {
          "base_uri": "https://localhost:8080/"
        },
        "outputId": "6cfb5fa2-f3f6-4667-f7e9-547fd0db6e0e"
      },
      "execution_count": 5,
      "outputs": [
        {
          "output_type": "stream",
          "name": "stdout",
          "text": [
            "  Hours Scores\n",
            "1   2.5     21\n",
            "2   5.1     47\n",
            "3   3.2     27\n",
            "4   8.5     75\n",
            "5   3.5     30\n",
            "6   1.5     20\n"
          ]
        }
      ]
    },
    {
      "cell_type": "markdown",
      "source": [
        "Data Modelling - Linear Regression Model"
      ],
      "metadata": {
        "id": "M_4EQ8Onp2JE"
      }
    },
    {
      "cell_type": "code",
      "source": [
        "model=lm(Scores~Hours,data=student)"
      ],
      "metadata": {
        "id": "vglrsoi7pkpq"
      },
      "execution_count": 6,
      "outputs": []
    },
    {
      "cell_type": "code",
      "source": [
        "print(summary(model))"
      ],
      "metadata": {
        "id": "rPYQ7EMVpzgf",
        "colab": {
          "base_uri": "https://localhost:8080/"
        },
        "outputId": "b8f96fb0-4ee1-4e0a-c3cb-88e56e7b2b1e"
      },
      "execution_count": 7,
      "outputs": [
        {
          "output_type": "stream",
          "name": "stdout",
          "text": [
            "\n",
            "Call:\n",
            "lm(formula = Scores ~ Hours, data = student)\n",
            "\n",
            "Residuals:\n",
            "    Min      1Q  Median      3Q     Max \n",
            "-10.578  -5.340   1.839   4.593   7.265 \n",
            "\n",
            "Coefficients:\n",
            "            Estimate Std. Error t value Pr(>|t|)    \n",
            "(Intercept)   2.4837     2.5317   0.981    0.337    \n",
            "Hours         9.7758     0.4529  21.583   <2e-16 ***\n",
            "---\n",
            "Signif. codes:  0 ‘***’ 0.001 ‘**’ 0.01 ‘*’ 0.05 ‘.’ 0.1 ‘ ’ 1\n",
            "\n",
            "Residual standard error: 5.603 on 23 degrees of freedom\n",
            "Multiple R-squared:  0.9529,\tAdjusted R-squared:  0.9509 \n",
            "F-statistic: 465.8 on 1 and 23 DF,  p-value: < 2.2e-16\n",
            "\n"
          ]
        }
      ]
    },
    {
      "cell_type": "code",
      "source": [
        "plot.new()\n",
        "plot(student$Hours,student$Scores,main=\"Scatterplot\")"
      ],
      "metadata": {
        "id": "qVF2TPbIpZXm",
        "colab": {
          "base_uri": "https://localhost:8080/",
          "height": 437
        },
        "outputId": "4193ba1f-e273-4af2-dd23-da91a226f90b"
      },
      "execution_count": 8,
      "outputs": [
        {
          "output_type": "display_data",
          "data": {
            "text/plain": [
              "Plot with title “Scatterplot”"
            ],
            "image/png": "[encoded data removed]"
          },
          "metadata": {
            "image/png": {
              "width": 420,
              "height": 420
            }
          }
        }
      ]
    },
    {
      "cell_type": "code",
      "source": [
        "print(coefficients(model))"
      ],
      "metadata": {
        "id": "Hq33Ltwtp8ox",
        "colab": {
          "base_uri": "https://localhost:8080/"
        },
        "outputId": "5d69fbef-6a78-4b63-c95e-a5f80417b77d"
      },
      "execution_count": 9,
      "outputs": [
        {
          "output_type": "stream",
          "name": "stdout",
          "text": [
            "(Intercept)       Hours \n",
            "   2.483673    9.775803 \n"
          ]
        }
      ]
    },
    {
      "cell_type": "code",
      "source": [
        "print(cor(student$Hours,student$Scores))"
      ],
      "metadata": {
        "id": "OBf5TzNhpe6a",
        "colab": {
          "base_uri": "https://localhost:8080/"
        },
        "outputId": "0e991537-b041-4957-f837-9e84e3a3e4c1"
      },
      "execution_count": 10,
      "outputs": [
        {
          "output_type": "stream",
          "name": "stdout",
          "text": [
            "[1] 0.9761907\n"
          ]
        }
      ]
    },
    {
      "cell_type": "code",
      "source": [
        "p<-as.data.frame(9.25)\n",
        "colnames(p)<-\"Hours\""
      ],
      "metadata": {
        "id": "aGQpge19qG41"
      },
      "execution_count": 11,
      "outputs": []
    },
    {
      "cell_type": "code",
      "source": [
        "prediction<-predict(model,newdata=p)\n",
        "print(prediction)"
      ],
      "metadata": {
        "id": "MSUL8mgatGTm",
        "colab": {
          "base_uri": "https://localhost:8080/"
        },
        "outputId": "61159909-b440-441a-f7e8-fa44cdb39553"
      },
      "execution_count": 12,
      "outputs": [
        {
          "output_type": "stream",
          "name": "stdout",
          "text": [
            "       1 \n",
            "92.90985 \n"
          ]
        }
      ]
    }
  ]
}